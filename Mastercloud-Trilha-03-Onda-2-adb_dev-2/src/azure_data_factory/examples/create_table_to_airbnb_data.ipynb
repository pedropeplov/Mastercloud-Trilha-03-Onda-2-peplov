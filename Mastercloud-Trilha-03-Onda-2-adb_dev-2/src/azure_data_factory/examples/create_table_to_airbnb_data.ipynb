{
    "metadata": {
        "kernelspec": {
            "name": "SQL",
            "display_name": "SQL",
            "language": "sql"
        },
        "language_info": {
            "name": "sql",
            "version": ""
        }
    },
    "nbformat_minor": 2,
    "nbformat": 4,
    "cells": [
        {
            "cell_type": "markdown",
            "source": [
                "# Vamos criar a tabela que irá receber os dados do data.csv"
            ],
            "metadata": {
                "azdata_cell_guid": "3219cf21-8da2-4685-b118-b1bca442c781"
            },
            "attachments": {}
        },
        {
            "cell_type": "code",
            "source": [
                "CREATE SCHEMA airbnb;"
            ],
            "metadata": {
                "azdata_cell_guid": "9a150534-9ce0-406a-acb0-ec64d8a07c10",
                "language": "sql"
            },
            "outputs": [
                {
                    "output_type": "error",
                    "evalue": "Msg 2714, Level 16, State 6, Line 1\nThere is already an object named 'airbnb' in the database.",
                    "ename": "",
                    "traceback": []
                },
                {
                    "output_type": "error",
                    "evalue": "Msg 2759, Level 16, State 0, Line 1\nCREATE SCHEMA failed due to previous errors.",
                    "ename": "",
                    "traceback": []
                },
                {
                    "output_type": "display_data",
                    "data": {
                        "text/html": "Total execution time: 00:00:00.203"
                    },
                    "metadata": {}
                }
            ],
            "execution_count": 1
        },
        {
            "cell_type": "code",
            "source": [
                "CREATE TABLE airbnb.data (\n",
                "    date TEXT,\n",
                "    price FLOAT,\n",
                "    bedrooms FLOAT,\n",
                "    bathrooms FLOAT,\n",
                "    sqft_living INT,\n",
                "    sqft_lot INT,\n",
                "    floors FLOAT,\n",
                "    waterfront INT,\n",
                "    \"view\" INT,\n",
                "    condition INT,\n",
                "    sqft_above INT,\n",
                "    sqft_basement INT,\n",
                "    yr_built INT,\n",
                "    yr_renovated INT,\n",
                "    street TEXT,\n",
                "    city TEXT,\n",
                "    statezip TEXT,\n",
                "    country TEXT\n",
                ");"
            ],
            "metadata": {
                "language": "sql",
                "azdata_cell_guid": "e767b85f-55c3-40e9-80ba-0701db566ac6"
            },
            "outputs": [
                {
                    "output_type": "display_data",
                    "data": {
                        "text/html": "Commands completed successfully."
                    },
                    "metadata": {}
                },
                {
                    "output_type": "display_data",
                    "data": {
                        "text/html": "Total execution time: 00:00:00.191"
                    },
                    "metadata": {}
                }
            ],
            "execution_count": 3
        }
    ]
}