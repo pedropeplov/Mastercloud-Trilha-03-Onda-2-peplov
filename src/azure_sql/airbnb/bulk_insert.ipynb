{
    "metadata": {
        "kernelspec": {
            "name": "SQL",
            "display_name": "SQL",
            "language": "sql"
        },
        "language_info": {
            "name": "sql",
            "version": ""
        }
    },
    "nbformat_minor": 2,
    "nbformat": 4,
    "cells": [
        {
            "cell_type": "markdown",
            "source": [
                "# Create a Master Key"
            ],
            "metadata": {
                "azdata_cell_guid": "801b89f1-2f3d-4bf1-b0ab-d93c1df5921d"
            },
            "attachments": {}
        },
        {
            "cell_type": "code",
            "source": [
                "CREATE MASTER KEY ENCRYPTION BY PASSWORD = 'test12332$';"
            ],
            "metadata": {
                "azdata_cell_guid": "6f7101a3-4b32-4887-aaa8-7f2c5a7a37b9",
                "language": "sql"
            },
            "outputs": [
                {
                    "output_type": "error",
                    "evalue": "Msg 15578, Level 16, State 1, Line 1\nThere is already a master key in the database. Please drop it before performing this statement.",
                    "ename": "",
                    "traceback": []
                },
                {
                    "output_type": "display_data",
                    "data": {
                        "text/html": "Total execution time: 00:00:00.121"
                    },
                    "metadata": {}
                }
            ],
            "execution_count": 3
        },
        {
            "cell_type": "markdown",
            "source": [
                "# Create SAS credentials"
            ],
            "metadata": {
                "language": "sql",
                "azdata_cell_guid": "9dd23ec2-c72d-4238-b92c-ef2c93f17f6a"
            },
            "attachments": {}
        },
        {
            "cell_type": "code",
            "source": [
                "CREATE DATABASE SCOPED CREDENTIAL blobcred2\n",
                "WITH IDENTITY = 'SHARED ACCESS SIGNATURE', \n",
                "SECRET = '?sv=2022-11-02&ss=bfqt&srt=sco&sp=rwdlacupiytfx&se=2023-11-09T22:58:02Z&st=2023-10-31T14:58:02Z&spr=https,http&sig=4yUOJDmBeHkekC0GBT3Qe9Rmd3tCsOZeA5mJWcBySnc%3D';"
            ],
            "metadata": {
                "language": "sql",
                "azdata_cell_guid": "75f1b1a8-8e27-43e5-a4cd-e79a0005fcbc",
                "tags": []
            },
            "outputs": [
                {
                    "output_type": "display_data",
                    "data": {
                        "text/html": "Commands completed successfully."
                    },
                    "metadata": {}
                },
                {
                    "output_type": "display_data",
                    "data": {
                        "text/html": "Total execution time: 00:00:00.152"
                    },
                    "metadata": {}
                }
            ],
            "execution_count": 50
        },
        {
            "cell_type": "code",
            "source": [
                "SELECT * from sys.credentials"
            ],
            "metadata": {
                "language": "sql",
                "azdata_cell_guid": "2f4d69ca-db89-48df-9998-82d7f809e6e6"
            },
            "outputs": [
                {
                    "output_type": "display_data",
                    "data": {
                        "text/html": "(0 rows affected)"
                    },
                    "metadata": {}
                },
                {
                    "output_type": "display_data",
                    "data": {
                        "text/html": "Total execution time: 00:00:00.120"
                    },
                    "metadata": {}
                },
                {
                    "output_type": "execute_result",
                    "metadata": {},
                    "execution_count": 51,
                    "data": {
                        "application/vnd.dataresource+json": {
                            "schema": {
                                "fields": [
                                    {
                                        "name": "credential_id"
                                    },
                                    {
                                        "name": "name"
                                    },
                                    {
                                        "name": "credential_identity"
                                    },
                                    {
                                        "name": "create_date"
                                    },
                                    {
                                        "name": "modify_date"
                                    },
                                    {
                                        "name": "target_type"
                                    },
                                    {
                                        "name": "target_id"
                                    }
                                ]
                            },
                            "data": []
                        },
                        "text/html": [
                            "<table>",
                            "<tr><th>credential_id</th><th>name</th><th>credential_identity</th><th>create_date</th><th>modify_date</th><th>target_type</th><th>target_id</th></tr>",
                            "</table>"
                        ]
                    }
                }
            ],
            "execution_count": 51
        },
        {
            "cell_type": "markdown",
            "source": [
                "# CREATE AN EXTERNAL DATA SOURCE BY USING `credentials`"
            ],
            "metadata": {
                "language": "sql",
                "azdata_cell_guid": "84b7c8de-affa-4e0c-9719-54ca1021e656"
            },
            "attachments": {}
        },
        {
            "cell_type": "code",
            "source": [
                "CREATE EXTERNAL DATA SOURCE mastercloudtrilha03sa5\n",
                "    WITH (\n",
                "        TYPE = BLOB_STORAGE,\n",
                "        LOCATION = 'https://mastercloudtrilha03sa.blob.core.windows.net/sql/airbnb/raw/',\n",
                "        CREDENTIAL = blobcred2\n",
                "    );"
            ],
            "metadata": {
                "language": "sql",
                "azdata_cell_guid": "f12a08bf-4178-48a9-9a0d-bda8bc4f1cc0"
            },
            "outputs": [
                {
                    "output_type": "display_data",
                    "data": {
                        "text/html": "Commands completed successfully."
                    },
                    "metadata": {}
                },
                {
                    "output_type": "display_data",
                    "data": {
                        "text/html": "Total execution time: 00:00:00.226"
                    },
                    "metadata": {}
                }
            ],
            "execution_count": 54
        },
        {
            "cell_type": "markdown",
            "source": [
                "# CREATE TABLE AND LOAD DATA USING BULK INSERT"
            ],
            "metadata": {
                "language": "sql",
                "azdata_cell_guid": "6debb99e-e2d5-428f-8c71-17c6cd7d6853"
            },
            "attachments": {}
        },
        {
            "cell_type": "code",
            "source": [
                "DROP TABLE airbnb.listings;\n",
                "DROP SCHEMA airbnb;"
            ],
            "metadata": {
                "language": "sql",
                "azdata_cell_guid": "7fdadf4f-210c-42b0-8c77-650231f36361"
            },
            "outputs": [
                {
                    "output_type": "display_data",
                    "data": {
                        "text/html": "Commands completed successfully."
                    },
                    "metadata": {}
                },
                {
                    "output_type": "display_data",
                    "data": {
                        "text/html": "Total execution time: 00:00:00.128"
                    },
                    "metadata": {}
                }
            ],
            "execution_count": 34
        },
        {
            "cell_type": "code",
            "source": [
                "SET ANSI_NULLS ON\n",
                "GO\n",
                "SET QUOTED_IDENTIFIER ON\n",
                "GO\n",
                "\n",
                "CREATE SCHEMA airbnb;\n",
                "GO\n",
                "\n",
                "CREATE TABLE [airbnb].[listings](\n",
                "\t[id] [int] NULL,\n",
                "\t[name] [nvarchar](255) NULL,\n",
                "\t[host_id] [int] NULL,\n",
                "\t[host_name] [nvarchar](255) NULL,\n",
                "\t[neighbourhood_group] [nvarchar](50) NULL,\n",
                "\t[neighbourhood] [nvarchar](50) NULL,\n",
                "\t[latitude] [float] NULL,\n",
                "\t[longitude] [float] NULL,\n",
                "\t[room_type] [nvarchar](50) NULL,\n",
                "\t[price] [int] NULL,\n",
                "\t[minimum_nights] [int] NULL,\n",
                "\t[number_of_reviews] [int] NULL,\n",
                "\t[last_review] [date] NULL,\n",
                "\t[reviews_per_month] [float] NULL,\n",
                "\t[calculated_host_listings_count] [int] NULL,\n",
                "\t[availability_365] [int] NULL\n",
                ") ON [PRIMARY]\n",
                "GO\n",
                ""
            ],
            "metadata": {
                "language": "sql",
                "azdata_cell_guid": "ccc99031-8958-4666-a06e-ba09f0f55f01"
            },
            "outputs": [
                {
                    "output_type": "display_data",
                    "data": {
                        "text/html": "Commands completed successfully."
                    },
                    "metadata": {}
                },
                {
                    "output_type": "display_data",
                    "data": {
                        "text/html": "Commands completed successfully."
                    },
                    "metadata": {}
                },
                {
                    "output_type": "display_data",
                    "data": {
                        "text/html": "Commands completed successfully."
                    },
                    "metadata": {}
                },
                {
                    "output_type": "display_data",
                    "data": {
                        "text/html": "Commands completed successfully."
                    },
                    "metadata": {}
                },
                {
                    "output_type": "display_data",
                    "data": {
                        "text/html": "Total execution time: 00:00:00.492"
                    },
                    "metadata": {}
                }
            ],
            "execution_count": 35
        },
        {
            "cell_type": "markdown",
            "source": [
                "# BULK INSERT INTO OUR TABLE"
            ],
            "metadata": {
                "language": "sql",
                "azdata_cell_guid": "f1e4235e-3818-4105-ac22-3f5706fd01f9"
            },
            "attachments": {}
        },
        {
            "cell_type": "code",
            "source": [
                "BULK INSERT [airbnb].[listings] FROM \n",
                "    'listings.csv' \n",
                "WITH (DATA_SOURCE = 'mastercloudtrilha03sa5', FIRSTROW = 2, FIELDTERMINATOR = ',', ROWTERMINATOR = '\\n')"
            ],
            "metadata": {
                "language": "sql",
                "azdata_cell_guid": "739815d3-899c-4631-acda-8b976aab0c80"
            },
            "outputs": [
                {
                    "output_type": "error",
                    "evalue": "Msg 4861, Level 16, State 1, Line 1\nCannot bulk load because the file \"listings.csv\" could not be opened. Operating system error code 5(Access is denied.).",
                    "ename": "",
                    "traceback": []
                },
                {
                    "output_type": "display_data",
                    "data": {
                        "text/html": "Total execution time: 00:00:00.173"
                    },
                    "metadata": {}
                }
            ],
            "execution_count": 57
        }
    ]
}